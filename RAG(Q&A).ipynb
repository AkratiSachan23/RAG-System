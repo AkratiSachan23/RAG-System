{
  "nbformat": 4,
  "nbformat_minor": 0,
  "metadata": {
    "colab": {
      "provenance": [],
      "authorship_tag": "ABX9TyN5vRkCeUnMevF0mwlgo19K",
      "include_colab_link": true
    },
    "kernelspec": {
      "name": "python3",
      "display_name": "Python 3"
    },
    "language_info": {
      "name": "python"
    }
  },
  "cells": [
    {
      "cell_type": "markdown",
      "metadata": {
        "id": "view-in-github",
        "colab_type": "text"
      },
      "source": [
        "<a href=\"https://colab.research.google.com/github/AkratiSachan23/RAG-System/blob/main/RAG(Q%26A).ipynb\" target=\"_parent\"><img src=\"https://colab.research.google.com/assets/colab-badge.svg\" alt=\"Open In Colab\"/></a>"
      ]
    },
    {
      "cell_type": "markdown",
      "source": [
        "# Retrieval‑Augmented Generation (RAG) Q&A for PS‑4\n",
        "**National‑Security Focused**  \n",
        "This notebook will:\n",
        "1. Install dependencies  \n",
        "2. Load your PDFs from `./data/`  \n",
        "3. Extract and clean text  \n",
        "4. Chunk into passages  \n",
        "5. Build a FAISS index  \n",
        "6. Run an interactive Q&A loop with FLAN‑T5  \n",
        "\n",
        "---\n",
        "\n"
      ],
      "metadata": {
        "id": "msaSsFqTqZtn"
      }
    },
    {
      "cell_type": "code",
      "source": [
        "!pip install faiss-cpu sentence-transformers transformers PyMuPDF"
      ],
      "metadata": {
        "id": "6_B04_R9qgOF"
      },
      "execution_count": null,
      "outputs": []
    },
    {
      "cell_type": "code",
      "source": [
        "# Imports\n",
        "import os\n",
        "import fitz                             # PyMuPDF\n",
        "import numpy as np\n",
        "import faiss\n",
        "from sentence_transformers import SentenceTransformer\n",
        "from transformers import pipeline\n",
        "from langchain.text_splitter import RecursiveCharacterTextSplitter\n"
      ],
      "metadata": {
        "id": "HZh0nxngqkwm"
      },
      "execution_count": 3,
      "outputs": []
    },
    {
      "cell_type": "code",
      "source": [
        "# Configuration\n",
        "PDF_FOLDER = \"data\"                    # place your PDFs here\n",
        "EMBED_MODEL = \"all-MiniLM-L6-v2\"\n",
        "GEN_MODEL   = \"google/flan-t5-base\"\n",
        "INDEX_PATH  = \"faiss.index\"\n",
        "CHUNK_SIZE  = 500\n",
        "CHUNK_OVERLAP = 50\n",
        "TOP_K = 3\n"
      ],
      "metadata": {
        "id": "FOyak9EEu-ot"
      },
      "execution_count": 4,
      "outputs": []
    },
    {
      "cell_type": "code",
      "source": [
        "# PDF Loader\n",
        "def load_pdfs(pdf_folder: str):\n",
        "    docs = {}\n",
        "    for fname in sorted(os.listdir(pdf_folder)):\n",
        "        if not fname.lower().endswith(\".pdf\"): continue\n",
        "        path = os.path.join(pdf_folder, fname)\n",
        "        txt_pages = []\n",
        "        with fitz.open(path) as pdf:\n",
        "            for page in pdf:\n",
        "                txt_pages.append(page.get_text())\n",
        "        docs[fname] = \"\\n\".join(txt_pages)\n",
        "        print(f\"Loaded {fname} ({len(txt_pages)} pages)\")\n",
        "    return docs\n",
        "\n",
        "docs = load_pdfs(PDF_FOLDER)\n"
      ],
      "metadata": {
        "colab": {
          "base_uri": "https://localhost:8080/"
        },
        "id": "vBFEalX9vPrL",
        "outputId": "2d14b2d6-c34f-42e2-a167-705d23a5ce8a"
      },
      "execution_count": 5,
      "outputs": [
        {
          "output_type": "stream",
          "name": "stdout",
          "text": [
            "Loaded Alert and Advisories _ NCIIPC.pdf (162 pages)\n",
            "Loaded CERT-In Vulnerability Notes.pdf (2 pages)\n",
            "Loaded CIWP-2025-0002.pdf (53 pages)\n",
            "Loaded Comprehensive_Cyber_Security_Audit_Policy_Guidelines.pdf (69 pages)\n",
            "Loaded National_Cyber_Security_Policy-2013.pdf (15 pages)\n",
            "Loaded Roles_Responsibilities-CISO.pdf (2 pages)\n",
            "Loaded SOP-PPP.pdf (25 pages)\n"
          ]
        }
      ]
    },
    {
      "cell_type": "code",
      "source": [
        "# Chunking\n",
        "splitter = RecursiveCharacterTextSplitter(\n",
        "    chunk_size=CHUNK_SIZE,\n",
        "    chunk_overlap=CHUNK_OVERLAP,\n",
        "    separators=[\"\\n\\n\", \"\\n\", \" \", \"\"]\n",
        ")\n",
        "\n",
        "chunks = []\n",
        "for doc_id, text in docs.items():\n",
        "    parts = splitter.split_text(text)\n",
        "    for i, chunk in enumerate(parts):\n",
        "        chunks.append({\n",
        "            \"doc_id\": doc_id,\n",
        "            \"chunk_id\": i,\n",
        "            \"text\": chunk\n",
        "        })\n",
        "print(f\"Total chunks: {len(chunks)}\")\n"
      ],
      "metadata": {
        "colab": {
          "base_uri": "https://localhost:8080/"
        },
        "id": "DLdGsAGIvVNK",
        "outputId": "5587f6d2-2796-4ee5-e7d7-b662734b046f"
      },
      "execution_count": 6,
      "outputs": [
        {
          "output_type": "stream",
          "name": "stdout",
          "text": [
            "Total chunks: 1200\n"
          ]
        }
      ]
    },
    {
      "cell_type": "code",
      "source": [
        "# Embed & Index\n",
        "embedder = SentenceTransformer(EMBED_MODEL)\n",
        "\n",
        "# encode all chunks\n",
        "texts = [c[\"text\"] for c in chunks]\n",
        "embeddings = embedder.encode(texts, show_progress_bar=True)\n",
        "dim = embeddings.shape[1]\n",
        "\n",
        "# create FAISS index\n",
        "index = faiss.IndexFlatL2(dim)\n",
        "index.add(np.array(embeddings, dtype=\"float32\"))\n",
        "faiss.write_index(index, INDEX_PATH)\n",
        "print(f\"FAISS index built ({index.ntotal} vectors) and saved to {INDEX_PATH}\")\n"
      ],
      "metadata": {
        "id": "7MpWekSWvcPW"
      },
      "execution_count": null,
      "outputs": []
    },
    {
      "cell_type": "code",
      "source": [
        "# Helper Classes\n",
        "class Retriever:\n",
        "    def __init__(self, index_path=INDEX_PATH):\n",
        "        self.index = faiss.read_index(index_path)\n",
        "        self.embedder = embedder\n",
        "\n",
        "    def retrieve(self, query: str, top_k=TOP_K):\n",
        "        q_emb = self.embedder.encode([query])\n",
        "        D, I = self.index.search(np.array(q_emb, dtype=\"float32\"), top_k)\n",
        "        return [chunks[i] for i in I[0]]\n",
        "\n",
        "class Generator:\n",
        "    def __init__(self, model_name=GEN_MODEL):\n",
        "        self.pipe = pipeline(\"text2text-generation\", model=model_name)\n",
        "\n",
        "    def answer(self, question: str, contexts: list):\n",
        "        combined = \"\\n\\n\".join(\n",
        "            f\"[{c['doc_id']}#{c['chunk_id']}]: {c['text']}\"\n",
        "            for c in contexts\n",
        "        )\n",
        "        prompt = (\n",
        "            \"Use the following document snippets to answer the question and cite each fact:\\n\\n\"\n",
        "            f\"{combined}\\n\\nQuestion: {question}\\nAnswer:\"\n",
        "        )\n",
        "        out = self.pipe(prompt, max_length=200)[0][\"generated_text\"]\n",
        "        return out\n"
      ],
      "metadata": {
        "id": "lLaBNpC4vjAB"
      },
      "execution_count": 8,
      "outputs": []
    },
    {
      "cell_type": "code",
      "source": [
        "# Run Q&A Loop\n",
        "ret = Retriever()\n",
        "gen = Generator()\n",
        "\n",
        "print(\"RAG Q&A ready! Type your question, or 'exit' to quit.\\n\")\n",
        "while True:\n",
        "    q = input(\"Q> \").strip()\n",
        "    if q.lower() in (\"exit\", \"quit\"):\n",
        "        break\n",
        "    ctx = ret.retrieve(q)\n",
        "    ans = gen.answer(q, ctx)\n",
        "    print(\"\\nA:\", ans, \"\\n\" + \"-\"*60 + \"\\n\")\n"
      ],
      "metadata": {
        "id": "keQsOCnVvw8V"
      },
      "execution_count": null,
      "outputs": []
    },
    {
      "cell_type": "markdown",
      "source": [
        "#Output :\n",
        "Device set to use cpu <br>\n",
        "RAG Q&A ready! Type your question, or 'exit' to quit.<br>\n",
        "\n",
        "##Q> What are current Cyber Security Threats <br>\n",
        "Both `max_new_tokens` (=256) and `max_length`(=200) seem to have been set. `max_new_tokens` will take precedence. Please refer to the documentation for more information. (https://huggingface.co/docs/transformers/main/en/main_classes/text_generation)<br>\n",
        "\n",
        "A: identity theft, phishing, social engineering, hactivism, cyber terrorism, compound threats\n",
        "------------------------------------------------------------\n",
        "\n",
        "## Q> exit"
      ],
      "metadata": {
        "id": "d_b9fi7Kxrci"
      }
    },
    {
      "cell_type": "code",
      "source": [],
      "metadata": {
        "id": "pCKvCk6lvzlD"
      },
      "execution_count": null,
      "outputs": []
    }
  ]
}